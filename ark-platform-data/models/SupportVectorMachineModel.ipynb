{
 "cells": [
  {
   "cell_type": "code",
   "execution_count": 7,
   "metadata": {},
   "outputs": [],
   "source": [
    "import sklearn\n",
    "from sklearn import svm\n",
    "from sklearn import datasets\n",
    "from sklearn import metrics\n"
   ]
  },
  {
   "cell_type": "code",
   "execution_count": 2,
   "metadata": {},
   "outputs": [],
   "source": [
    "cancer = datasets.load_breast_cancer()\n"
   ]
  },
  {
   "cell_type": "code",
   "execution_count": 4,
   "metadata": {},
   "outputs": [
    {
     "data": {
      "text/plain": [
       "array(['malignant', 'benign'], dtype='<U9')"
      ]
     },
     "execution_count": 4,
     "metadata": {},
     "output_type": "execute_result"
    }
   ],
   "source": [
    "cancer.target_names"
   ]
  },
  {
   "cell_type": "code",
   "execution_count": 5,
   "metadata": {},
   "outputs": [],
   "source": [
    "x = cancer.data  # All of the features\n",
    "y = cancer.target  # All of the labels\n",
    "\n",
    "x_train, x_test, y_train, y_test = sklearn.model_selection.train_test_split(x, y, test_size=0.2)"
   ]
  },
  {
   "cell_type": "code",
   "execution_count": 6,
   "metadata": {},
   "outputs": [
    {
     "name": "stdout",
     "output_type": "stream",
     "text": [
      "[[1.200e+01 2.823e+01 7.677e+01 4.425e+02 8.437e-02 6.450e-02 4.055e-02\n",
      "  1.945e-02 1.615e-01 6.104e-02 1.912e-01 1.705e+00 1.516e+00 1.386e+01\n",
      "  7.334e-03 2.589e-02 2.941e-02 9.166e-03 1.745e-02 4.302e-03 1.309e+01\n",
      "  3.788e+01 8.507e+01 5.237e+02 1.208e-01 1.856e-01 1.811e-01 7.116e-02\n",
      "  2.447e-01 8.194e-02]\n",
      " [1.314e+01 2.074e+01 8.598e+01 5.369e+02 8.675e-02 1.089e-01 1.085e-01\n",
      "  3.510e-02 1.562e-01 6.020e-02 3.152e-01 7.884e-01 2.312e+00 2.740e+01\n",
      "  7.295e-03 3.179e-02 4.615e-02 1.254e-02 1.561e-02 3.230e-03 1.480e+01\n",
      "  2.546e+01 1.009e+02 6.891e+02 1.351e-01 3.549e-01 4.504e-01 1.181e-01\n",
      "  2.563e-01 8.174e-02]\n",
      " [1.005e+01 1.753e+01 6.441e+01 3.108e+02 1.007e-01 7.326e-02 2.511e-02\n",
      "  1.775e-02 1.890e-01 6.331e-02 2.619e-01 2.015e+00 1.778e+00 1.685e+01\n",
      "  7.803e-03 1.449e-02 1.690e-02 8.043e-03 2.100e-02 2.778e-03 1.116e+01\n",
      "  2.684e+01 7.198e+01 3.840e+02 1.402e-01 1.402e-01 1.055e-01 6.499e-02\n",
      "  2.894e-01 7.664e-02]\n",
      " [2.137e+01 1.510e+01 1.413e+02 1.386e+03 1.001e-01 1.515e-01 1.932e-01\n",
      "  1.255e-01 1.973e-01 6.183e-02 3.414e-01 1.309e+00 2.407e+00 3.906e+01\n",
      "  4.426e-03 2.675e-02 3.437e-02 1.343e-02 1.675e-02 4.367e-03 2.269e+01\n",
      "  2.184e+01 1.521e+02 1.535e+03 1.192e-01 2.840e-01 4.024e-01 1.966e-01\n",
      "  2.730e-01 8.666e-02]\n",
      " [1.151e+01 2.393e+01 7.452e+01 4.035e+02 9.261e-02 1.021e-01 1.112e-01\n",
      "  4.105e-02 1.388e-01 6.570e-02 2.388e-01 2.904e+00 1.936e+00 1.697e+01\n",
      "  8.200e-03 2.982e-02 5.738e-02 1.267e-02 1.488e-02 4.738e-03 1.248e+01\n",
      "  3.716e+01 8.228e+01 4.742e+02 1.298e-01 2.517e-01 3.630e-01 9.653e-02\n",
      "  2.112e-01 8.732e-02]] [1 1 1 0 1]\n"
     ]
    }
   ],
   "source": [
    "print(x_train[:5], y_train[:5])\n"
   ]
  },
  {
   "cell_type": "code",
   "execution_count": 18,
   "metadata": {},
   "outputs": [
    {
     "data": {
      "text/plain": [
       "SVC(C=1.0, break_ties=False, cache_size=200, class_weight=None, coef0=0.0,\n",
       "    decision_function_shape='ovr', degree=3, gamma='scale', kernel='linear',\n",
       "    max_iter=-1, probability=False, random_state=None, shrinking=True,\n",
       "    tol=0.001, verbose=False)"
      ]
     },
     "execution_count": 18,
     "metadata": {},
     "output_type": "execute_result"
    }
   ],
   "source": [
    "#clf = svm.SVC()\n",
    "clf = svm.SVC(kernel=\"linear\")\n",
    "\n",
    "clf.fit(x_train, y_train)\n"
   ]
  },
  {
   "cell_type": "code",
   "execution_count": 19,
   "metadata": {},
   "outputs": [],
   "source": [
    "y_pred = clf.predict(x_test) # Predict values for our test data\n",
    "acc = metrics.accuracy_score(y_test, y_pred) # Test them against our correct values\n"
   ]
  },
  {
   "cell_type": "code",
   "execution_count": 20,
   "metadata": {},
   "outputs": [
    {
     "data": {
      "text/plain": [
       "0.956140350877193"
      ]
     },
     "execution_count": 20,
     "metadata": {},
     "output_type": "execute_result"
    }
   ],
   "source": [
    "acc"
   ]
  }
 ],
 "metadata": {
  "kernelspec": {
   "display_name": "Python 3",
   "language": "python",
   "name": "python3"
  },
  "language_info": {
   "codemirror_mode": {
    "name": "ipython",
    "version": 3
   },
   "file_extension": ".py",
   "mimetype": "text/x-python",
   "name": "python",
   "nbconvert_exporter": "python",
   "pygments_lexer": "ipython3",
   "version": "3.8.1"
  }
 },
 "nbformat": 4,
 "nbformat_minor": 4
}
