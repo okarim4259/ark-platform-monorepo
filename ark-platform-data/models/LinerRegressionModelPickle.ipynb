{
 "cells": [
  {
   "cell_type": "code",
   "execution_count": 2,
   "metadata": {},
   "outputs": [],
   "source": [
    "import numpy as np\n",
    "import pandas as pd\n",
    "from sklearn import linear_model\n",
    "import sklearn\n",
    "from sklearn.utils import shuffle\n",
    "import matplotlib.pyplot as plt\n",
    "from matplotlib import style\n",
    "import pickle\n",
    "\n",
    "style.use(\"ggplot\")"
   ]
  },
  {
   "cell_type": "code",
   "execution_count": 9,
   "metadata": {},
   "outputs": [],
   "source": [
    "data = pd.read_csv(\"student-mat.csv\", sep=\";\")\n",
    "predict = \"G3\""
   ]
  },
  {
   "cell_type": "code",
   "execution_count": 10,
   "metadata": {},
   "outputs": [],
   "source": [
    "data = data[[\"G1\", \"G2\", \"absences\",\"failures\", \"studytime\",\"G3\"]]\n",
    "data = shuffle(data) # Optional - shuffle the data"
   ]
  },
  {
   "cell_type": "code",
   "execution_count": 11,
   "metadata": {},
   "outputs": [],
   "source": [
    "x = np.array(data.drop([predict], 1))\n",
    "y =np.array(data[predict])\n",
    "x_train, x_test, y_train, y_test = sklearn.model_selection.train_test_split(x, y, test_size=0.1)"
   ]
  },
  {
   "cell_type": "code",
   "execution_count": 13,
   "metadata": {},
   "outputs": [
    {
     "name": "stdout",
     "output_type": "stream",
     "text": [
      "Accuracy: 0.7627259834422025\n",
      "Accuracy: 0.8946082705853902\n",
      "Accuracy: 0.9254668221559048\n",
      "Accuracy: 0.7646574868049878\n",
      "Accuracy: 0.8951977648500853\n",
      "Accuracy: 0.8467370265369896\n",
      "Accuracy: 0.912185645317894\n",
      "Accuracy: 0.9073105200275507\n",
      "Accuracy: 0.7731783057174817\n",
      "Accuracy: 0.7488472607956669\n",
      "Accuracy: 0.8327802679549284\n",
      "Accuracy: 0.6834321799830326\n",
      "Accuracy: 0.8194936857431622\n",
      "Accuracy: 0.7416302899734548\n",
      "Accuracy: 0.8843990093687101\n",
      "Accuracy: 0.6644797678474805\n",
      "Accuracy: 0.8399625802456601\n",
      "Accuracy: 0.7875054150324311\n",
      "Accuracy: 0.8484716311527483\n",
      "Accuracy: 0.9207696532060575\n",
      "-------------------------\n",
      "Coefficient: \n",
      " [ 0.16368285  0.9729473   0.04172369 -0.26930068 -0.17695521]\n",
      "Intercept: \n",
      " -1.6209715898853432\n",
      "-------------------------\n"
     ]
    }
   ],
   "source": [
    "best = 0\n",
    "for _ in range(20):\n",
    "    x_train, x_test, y_train, y_test = sklearn.model_selection.train_test_split(x, y, test_size=0.1)\n",
    "    linear = linear_model.LinearRegression()\n",
    "    linear.fit(x_train, y_train)\n",
    "    acc = linear.score(x_test, y_test)\n",
    "    print(\"Accuracy: \" + str(acc))\n",
    "\n",
    "    if acc > best:\n",
    "        best = acc\n",
    "        with open(\"studentgrades.pickle\", \"wb\") as f:\n",
    "            pickle.dump(linear, f)\n",
    "\n",
    "# LOAD MODEL\n",
    "pickle_in = open(\"studentgrades.pickle\", \"rb\")\n",
    "linear = pickle.load(pickle_in)\n",
    "    \n",
    "print(\"-------------------------\")\n",
    "print('Coefficient: \\n', linear.coef_)\n",
    "print('Intercept: \\n', linear.intercept_)\n",
    "print(\"-------------------------\")"
   ]
  },
  {
   "cell_type": "code",
   "execution_count": 14,
   "metadata": {},
   "outputs": [
    {
     "data": {
      "text/plain": [
       "0.9254668221559048"
      ]
     },
     "execution_count": 14,
     "metadata": {},
     "output_type": "execute_result"
    }
   ],
   "source": [
    "best"
   ]
  },
  {
   "cell_type": "code",
   "execution_count": 15,
   "metadata": {},
   "outputs": [
    {
     "name": "stdout",
     "output_type": "stream",
     "text": [
      "13.552961052479644 [15 14  4  2  3] 15\n",
      "16.18596087488829 [14 16  3  0  1] 16\n",
      "8.26806164116176 [8 9 0 0 1] 8\n",
      "11.925082302104794 [12 12  2  0  1] 11\n",
      "8.258001210604217 [8 9 4 0 2] 10\n",
      "9.558314198731363 [10 10  4  0  2] 11\n",
      "7.63839671404666 [ 9  8 15  1  2] 8\n",
      "3.60265087823913 [6 5 0 1 2] 0\n",
      "14.994334677996083 [14 15  2  0  2] 15\n",
      "9.959066847140125 [12 10 10  0  3] 12\n",
      "5.936563394661754 [ 7  6 18  0  1] 6\n",
      "8.903582816326656 [ 6 10  4  0  2] 10\n",
      "-0.3513259065287202 [11  0  0  0  3] 0\n",
      "11.234908114645282 [10 12  4  1  2] 12\n",
      "-1.787414601771897 [5 0 0 3 1] 0\n",
      "15.158017523597259 [15 15  2  0  2] 16\n",
      "14.161737435630663 [16 14  6  0  4] 15\n",
      "10.052574665461616 [12 10  8  0  2] 11\n",
      "7.2016065259154765 [8 8 2 0 2] 8\n",
      "13.221758719527843 [12 13 14  0  2] 12\n",
      "10.591316138068086 [ 9  9 56  0  2] 8\n",
      "8.40841169572113 [10  9  4  0  3] 9\n",
      "6.698447975098947 [6 8 0 1 1] 8\n",
      "7.059921176703458 [ 9  7 18  0  2] 6\n",
      "6.939749083278249 [10  8  3  3  1] 7\n",
      "10.855415256931787 [13 11  0  0  2] 10\n",
      "13.13188747191045 [14 13  4  0  2] 13\n",
      "12.978265056866814 [13 13  0  0  1] 12\n",
      "13.019421138945141 [14 13 12  1  3] 13\n",
      "7.01137895934577 [9 8 2 0 4] 8\n",
      "14.89761492974787 [15 15  0  0  3] 15\n",
      "10.35109435964399 [11 11  0  0  3] 10\n",
      "9.314395895292959 [ 8 10  6  0  2] 10\n",
      "14.185070226672469 [15 14  2  0  2] 14\n",
      "3.7796060843245716 [6 5 0 1 1] 0\n",
      "12.79562369662182 [12 13  6  1  1] 14\n",
      "-1.0060572889334285 [7 0 0 0 3] 0\n",
      "12.804521780708095 [12 13  4  0  2] 13\n",
      "16.37488312396046 [17 16  0  0  2] 17\n",
      "9.674162555513638 [ 7 10 25  1  2] 11\n"
     ]
    }
   ],
   "source": [
    "predicted= linear.predict(x_test)\n",
    "for x in range(len(predicted)):\n",
    "    print(predicted[x], x_test[x], y_test[x])"
   ]
  },
  {
   "cell_type": "code",
   "execution_count": 20,
   "metadata": {},
   "outputs": [
    {
     "name": "stderr",
     "output_type": "stream",
     "text": [
      "No handles with labels found to put in legend.\n"
     ]
    },
    {
     "data": {
      "image/png": "[encoded data removed]",
      "text/plain": [
       "<Figure size 432x288 with 1 Axes>"
      ]
     },
     "metadata": {},
     "output_type": "display_data"
    }
   ],
   "source": [
    "# Drawing and plotting model\n",
    "plot = \"G2\"\n",
    "plt.scatter(data[plot], data[\"G3\"])\n",
    "plt.legend(loc=4)\n",
    "plt.xlabel(plot)\n",
    "plt.ylabel(\"Final Grade\")\n",
    "plt.show()"
   ]
  },
  {
   "cell_type": "code",
   "execution_count": null,
   "metadata": {},
   "outputs": [],
   "source": []
  }
 ],
 "metadata": {
  "kernelspec": {
   "display_name": "Python 3",
   "language": "python",
   "name": "python3"
  },
  "language_info": {
   "codemirror_mode": {
    "name": "ipython",
    "version": 3
   },
   "file_extension": ".py",
   "mimetype": "text/x-python",
   "name": "python",
   "nbconvert_exporter": "python",
   "pygments_lexer": "ipython3",
   "version": "3.8.1"
  }
 },
 "nbformat": 4,
 "nbformat_minor": 4
}
